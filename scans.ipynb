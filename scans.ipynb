{
 "cells": [
  {
   "cell_type": "markdown",
   "metadata": {},
   "source": [
    "## Data Analysis"
   ]
  },
  {
   "cell_type": "code",
   "execution_count": 17,
   "metadata": {},
   "outputs": [],
   "source": [
    "#Imports\n",
    "import pandas as pd\n",
    "import os\n",
    "import matplotlib as plot"
   ]
  },
  {
   "cell_type": "code",
   "execution_count": 35,
   "metadata": {},
   "outputs": [],
   "source": [
    "\"\"\"\n",
    "Reads in a given CSV file, then filters rows based on the given time range. \n",
    "\n",
    "Parameters:\n",
    "csv_file (str): The path to the CSV file.\n",
    "start_time (int): The start time to filter the data.\n",
    "end_time (int): The end time to filter the data.\n",
    "\"\"\"\n",
    "def read_csv(csv, start_time, end_time):\n",
    "    #Load csv files \n",
    "    df = pd.read_csv(csv)\n",
    "\n",
    "    #Drop unnecessary rows and columns \n",
    "    drop_columns = ['time', 'events']\n",
    "    df.drop(index=0, inplace=True)\n",
    "\n",
    "    #Convert all columns to numeric (if they aren't already)\n",
    "    df = df.apply(pd.to_numeric, errors='coerce')\n",
    "\n",
    "    #Filter rows based on the time range for the scanning period\n",
    "    scan_df = df[(df['time'] >= start_time) & (df['time'] <= end_time)]\n",
    "    scan_df = scan_df.drop(columns=drop_columns)\n",
    "\n",
    "    return scan_df\n",
    "\n",
    "\"\"\"\n",
    "Takes the modified dataframe of the original CSV file and calculates statistical data. \n",
    "Returns a dataframe which composites all of the new data. \n",
    "\n",
    "Parameters: \n",
    "df (DataFrame (pandas)): The modified dataframe. \n",
    "\"\"\"\n",
    "def calc_stat(df):\n",
    "    #Calculate the mean, median, and standard deviation\n",
    "    avg_df = df.mean(numeric_only=True)\n",
    "    med_df = df.median(numeric_only=True)\n",
    "    sd_df = df.std(numeric_only=True)\n",
    "\n",
    "    #Combine the results into a DataFrame (renamed to pi_table)\n",
    "    pi_table = pd.DataFrame({\n",
    "        'Mean': avg_df,\n",
    "        'Median': med_df,\n",
    "        'Standard Deviation': sd_df\n",
    "    })\n",
    "\n",
    "    return pi_table\n",
    "\n",
    "\"\"\"\n",
    "Takes the modified dataframe of the original CSV file and calculates statistical data. \n",
    "Returns a dataframe which composites all of the new data. \n",
    "\n",
    "Parameters: \n",
    "df (DataFrame (pandas)): The modified dataframe. \n",
    "\"\"\"\n",
    "def print_to_file(df, output):\n",
    "    #Format the text output for readability\n",
    "    output_file = output\n",
    "    with open(output_file, 'w') as file:\n",
    "        #Write the header with spacing\n",
    "        file.write(f\"{'Metric':<25}{'Mean':<20}{'Median':<20}{'Standard Deviation':<20}\\n\")\n",
    "        file.write(\"-\" * 85 + \"\\n\")  # Add a separator line\n",
    "\n",
    "        #Write each row of data with formatted spacing\n",
    "        for metric, row in df.iterrows():\n",
    "            file.write(f\"{metric:<25}{row['Mean']:<20.2e}{row['Median']:<20.2e}{row['Standard Deviation']:<20.2e}\\n\")\n",
    "\n",
    "    print(f\"Data successfully saved to {output_file}\")"
   ]
  },
  {
   "cell_type": "code",
   "execution_count": 42,
   "metadata": {},
   "outputs": [
    {
     "name": "stdout",
     "output_type": "stream",
     "text": [
      "Example Output:\n",
      "                  Mean     Median  Standard Deviation\n",
      "wearable  6.402940e+06  6408000.0        1.069324e+05\n",
      "soc       1.260885e+06  1243000.0        1.648849e+05\n",
      "cvip      2.110346e+06  2066000.0        4.293415e+05\n",
      "cpu       1.263579e+06  1199000.0        3.569126e+05\n",
      "gpu       1.575549e+06   105000.0        2.251262e+06\n",
      "...\n",
      "\n",
      "Data successfully saved to data_analysis/windows_trial_0.txt\n"
     ]
    }
   ],
   "source": [
    "# Input and output file paths \n",
    "windows_csv_0 = 'power_profiler_scan/windows/mr_windows_0.csv'\n",
    "output = 'data_analysis/windows_trial_0.txt'\n",
    "\n",
    "# Read in the csv\n",
    "csv = read_csv(windows_csv_0, 46, 194)\n",
    "\n",
    "# Calculate the mean, median, and standard deviation (and print example of a few lines)\n",
    "df = calc_stat(csv)\n",
    "print(\"Example Output:\")\n",
    "print(df.head())\n",
    "print(\"...\\n\")\n",
    "\n",
    "# Output the statistics into file path given\n",
    "print_to_file(df, output)"
   ]
  }
 ],
 "metadata": {
  "kernelspec": {
   "display_name": "Python 3",
   "language": "python",
   "name": "python3"
  },
  "language_info": {
   "codemirror_mode": {
    "name": "ipython",
    "version": 3
   },
   "file_extension": ".py",
   "mimetype": "text/x-python",
   "name": "python",
   "nbconvert_exporter": "python",
   "pygments_lexer": "ipython3",
   "version": "3.9.8"
  }
 },
 "nbformat": 4,
 "nbformat_minor": 2
}
