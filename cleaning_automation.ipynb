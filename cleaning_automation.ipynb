{
 "cells": [
  {
   "cell_type": "code",
   "execution_count": 3,
   "id": "4c7ceaba-0f74-4573-a2ab-85520cbbb58c",
   "metadata": {},
   "outputs": [
    {
     "name": "stdout",
     "output_type": "stream",
     "text": [
      "Processing lab\\lab_1.csv...\n",
      "Created lab_1_cleaned.csv\n",
      "\n",
      "Processing lab\\lab_2.csv...\n",
      "Created lab_2_cleaned.csv\n",
      "\n",
      "Processing lab\\lab_3.csv...\n",
      "Created lab_3_cleaned.csv\n",
      "\n",
      "Processing lab\\lab_4.csv...\n",
      "Created lab_4_cleaned.csv\n",
      "\n",
      "Processing lab\\lab_5.csv...\n",
      "Created lab_5_cleaned.csv\n",
      "\n"
     ]
    }
   ],
   "source": [
    "from pathlib import Path\n",
    "import pandas\n",
    "import numpy as np\n",
    "\n",
    "def process_csv(input_path, output_path):\n",
    "    df = pandas.read_csv(input_path)\n",
    "    df = df.drop('ts', axis=1)\n",
    "    df[\"Time (s)\"] = df[\"t_s\"].round(2)\n",
    "    features_df = (df.pivot_table(\n",
    "            index=\"Time (s)\",\n",
    "            columns=\"counter_name\",\n",
    "            values=\"value\",\n",
    "            aggfunc=\"mean\", # if multiple rows have same counter_name and time bin, mean value is used\n",
    "            observed=True)\n",
    "          .sort_index())\n",
    "    features_df = features_df.reset_index()\n",
    "    features_df.columns.name = None\n",
    "    features_df = features_df.replace(0, np.nan)\n",
    "    features_df = features_df.dropna(axis=1, how='all')\n",
    "    features_df = features_df.ffill()\n",
    "    features_df = features_df.bfill()\n",
    "    features_df = features_df.dropna(axis=1, how='any')\n",
    "    features_df.to_csv(output_path, index=False)\n",
    "\n",
    "to_clean = Path(\"meta_scan_csvs/to_clean\")\n",
    "for csv_file in to_clean.rglob(\"*.csv\"):\n",
    "    output_file = csv_file.parent / f\"{csv_file.stem}_cleaned.csv\"\n",
    "    print(f\"Processing {csv_file.relative_to(to_clean)}...\")\n",
    "    process_csv(csv_file, output_file)\n",
    "    print(f\"Created {output_file.name}\\n\")"
   ]
  },
  {
   "cell_type": "code",
   "execution_count": null,
   "id": "8418d0fe-f367-48bd-9d04-9c01b529c950",
   "metadata": {},
   "outputs": [],
   "source": []
  }
 ],
 "metadata": {
  "kernelspec": {
   "display_name": "Python [conda env:base] *",
   "language": "python",
   "name": "conda-base-py"
  },
  "language_info": {
   "codemirror_mode": {
    "name": "ipython",
    "version": 3
   },
   "file_extension": ".py",
   "mimetype": "text/x-python",
   "name": "python",
   "nbconvert_exporter": "python",
   "pygments_lexer": "ipython3",
   "version": "3.12.3"
  }
 },
 "nbformat": 4,
 "nbformat_minor": 5
}
