{
 "cells": [
  {
   "cell_type": "markdown",
   "metadata": {},
   "source": [
    "## Data Analysis"
   ]
  },
  {
   "cell_type": "code",
   "execution_count": 2,
   "metadata": {},
   "outputs": [],
   "source": [
    "#Imports\n",
    "import pandas as pd\n",
    "import matplotlib as plot"
   ]
  },
  {
   "cell_type": "markdown",
   "metadata": {},
   "source": [
    "### Meeting Room w/ Blinds"
   ]
  },
  {
   "cell_type": "code",
   "execution_count": 3,
   "metadata": {},
   "outputs": [],
   "source": [
    "#Load csv files\n",
    "blinds_trial = pd.read_csv('power_profiler_scan/pp_meeting_floor3_blinds_scan.csv')\n",
    "\n",
    "#Only record data between times where actually scanning with program, drop unnecessary columns, \n",
    "#and normalize input for time for analysis \n",
    "drop_columns = ['time', 'events']\n",
    "blinds_trial.drop(index=0, inplace=True)\n",
    "\n",
    "blinds_trial = blinds_trial.apply(pd.to_numeric, errors='coerce')\n",
    "blinds_0 = blinds_trial[(blinds_trial['time'] >= 58) & (blinds_trial['time'] <= 234)]\n",
    "blinds = blinds_0.drop(columns=drop_columns)\n",
    "avg_blinds_0 = blinds_0.mean(numeric_only=True)\n",
    "\n",
    "with open('blinds.txt', 'w') as file: \n",
    "    file.write(\"Average output for Meeting Room (Blinds) while scanning:\\n\")\n",
    "    file.write(f\"{avg_blinds_0}\\n\")"
   ]
  },
  {
   "cell_type": "markdown",
   "metadata": {},
   "source": [
    "### Meeting Room w/ Windows"
   ]
  },
  {
   "cell_type": "code",
   "execution_count": 6,
   "metadata": {},
   "outputs": [],
   "source": [
    "#Load csv files \n",
    "windows_trial = pd.read_csv('power_profiler_scan/pp_meeting_floor3_windows_scan.csv')\n",
    "\n",
    "#Only record data between times where actually scanning with program, drop unnecessary columns, \n",
    "#and normalize input for time for analysis \n",
    "drop_columns = ['time', 'events']\n",
    "windows_trial.drop(index=0, inplace=True)\n",
    "\n",
    "windows_trial = windows_trial.apply(pd.to_numeric, errors='coerce')\n",
    "\n",
    "windows_0 = windows_trial[(windows_trial['time'] >= 46) & (windows_trial['time'] <= 194)]\n",
    "windows_0 = windows_0.drop(columns=drop_columns)\n",
    "avg_windows_0 = windows_0.mean(numeric_only=True)\n",
    "med_windows_0 = windows_0.median(numeric_only=True)\n",
    "sd_windows_0 = windows_0.std(numeric_only=True)\n",
    "\n",
    "with open('windows.txt', 'w') as file:\n",
    "    file.write(\"Output for Meeting Room (Windows) while scanning:\\n\")\n",
    "    file.write(\"Mean\\n\")\n",
    "    file.write(f\"{avg_windows_0}\\n\")\n",
    "    file.write(\"\\n\\nMedian\\n\")\n",
    "    file.write(f\"{med_windows_0}\\n\")\n",
    "    file.write(\"\\n\\nStandard Deviation\\n\")\n",
    "    file.write(f\"{sd_windows_0}\\n\")\n",
    "    "
   ]
  }
 ],
 "metadata": {
  "kernelspec": {
   "display_name": "Python 3",
   "language": "python",
   "name": "python3"
  },
  "language_info": {
   "codemirror_mode": {
    "name": "ipython",
    "version": 3
   },
   "file_extension": ".py",
   "mimetype": "text/x-python",
   "name": "python",
   "nbconvert_exporter": "python",
   "pygments_lexer": "ipython3",
   "version": "3.9.8"
  }
 },
 "nbformat": 4,
 "nbformat_minor": 2
}
