{
 "cells": [
  {
   "cell_type": "markdown",
   "metadata": {},
   "source": [
    "BURGS - MIXED REALITY DEFENSE\n",
    "\n",
    "Goals \n",
    "1. Finish Unity Courses\n",
    "2. Research Papers\n",
    "    Allie - Location Detection Attacks\n",
    "    Casie - Hardware in VR Systems (Hololens, MetaQuest)\n",
    "\n",
    "Timeline \n",
    "1. 9/15 - Finish Unity Introduction Part I \n",
    "2. 9/16 - Finish Unity VR Course \n",
    "3. 9/16 - Read and present 1 paper of topic "
   ]
  },
  {
   "cell_type": "markdown",
   "metadata": {},
   "source": [
    "Literature Review: \n",
    "- [It's All in Your Headset](https://www.usenix.org/system/files/sec23fall-prepub-131-zhang-yicheng.pdf)\n",
    "    - Purpose - Find side-channel attacks through hand movements, concurrent applications, and location detection. \n",
    "    - Programs - Python, C#\n",
    "    - Technology - Hololens, MetaQuest2\n",
    "- [Apple Vision Pro’s Eye Tracking Exposed What People Type](https://nam04.safelinks.protection.outlook.com/?url=https%3A%2F%2Fwww.wired.com%2Fstory%2Fapple-vision-pro-persona-eye-tracking-spy-typing%2F&data=05%7C02%7Ccasiepeng%40vt.edu%7C3f171c6378b241fd2df408dcd382f7ba%7C6095688410ad40fa863d4f32c1e3a37a%7C0%7C0%7C638617806691080948%7CUnknown%7CTWFpbGZsb3d8eyJWIjoiMC4wLjAwMDAiLCJQIjoiV2luMzIiLCJBTiI6Ik1haWwiLCJXVCI6Mn0%3D%7C0%7C%7C%7C&sdata=XhRvlu5DaztAClu0slOXyrVsUOf8wvRaxJPwVpEvSAI%3D&reserved=0)\n",
    "  - Purpose - \n",
    "\n",
    "\n",
    "- [Magic Leap 2 Tools & Unity - Tutorial (Video)](https://www.youtube.com/watch?v=KqH0zv3e2AY)\n",
    "    - Purpose - Setup ML2, tools to interact with ML2 and setting up the Hub with Unity Hub. \n",
    "    - Programs - Unity... \n",
    "    - Technology - ML2  "
   ]
  },
  {
   "cell_type": "code",
   "execution_count": 1,
   "metadata": {},
   "outputs": [
    {
     "name": "stdout",
     "output_type": "stream",
     "text": [
      "Hello\n"
     ]
    }
   ],
   "source": [
    "print(\"Hello\")"
   ]
  }
 ],
 "metadata": {
  "kernelspec": {
   "display_name": "Python 3",
   "language": "python",
   "name": "python3"
  },
  "language_info": {
   "codemirror_mode": {
    "name": "ipython",
    "version": 3
   },
   "file_extension": ".py",
   "mimetype": "text/x-python",
   "name": "python",
   "nbconvert_exporter": "python",
   "pygments_lexer": "ipython3",
   "version": "3.9.8"
  }
 },
 "nbformat": 4,
 "nbformat_minor": 2
}
