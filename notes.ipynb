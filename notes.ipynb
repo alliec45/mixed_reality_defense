{
 "cells": [
  {
   "cell_type": "markdown",
   "metadata": {},
   "source": [
    "BURGS - MIXED REALITY DEFENSE\n",
    "\n",
    "Goals \n",
    "1. Finish Unity Courses\n",
    "2. Research Papers\n",
    "    Allie - Location Detection Attacks\n",
    "    Casie - Hardware in VR Systems (Hololens, MetaQuest)\n",
    "\n",
    "Timeline \n",
    "1. 9/15 - Finish Unity Introduction Part I \n",
    "2. 9/16 - Finish Unity VR Course \n",
    "3. 9/16 - Read and present 1 paper of topic "
   ]
  },
  {
   "cell_type": "markdown",
   "metadata": {},
   "source": [
    "Literature Review: \n",
    "- [It's All in Your Headset](https://www.usenix.org/system/files/sec23fall-prepub-131-zhang-yicheng.pdf)\n",
    "    - Purpose - Find side-channel attacks through hand movements, concurrent applications, and location detection. \n",
    "    - Programs - Python, C#\n",
    "    - Technology - Hololens, MetaQuest2\n",
    "    "
   ]
  },
  {
   "cell_type": "code",
   "execution_count": 1,
   "metadata": {},
   "outputs": [
    {
     "name": "stdout",
     "output_type": "stream",
     "text": [
      "Hello\n"
     ]
    }
   ],
   "source": [
    "print(\"Hello\")"
   ]
  }
 ],
 "metadata": {
  "kernelspec": {
   "display_name": "Python 3",
   "language": "python",
   "name": "python3"
  },
  "language_info": {
   "codemirror_mode": {
    "name": "ipython",
    "version": 3
   },
   "file_extension": ".py",
   "mimetype": "text/x-python",
   "name": "python",
   "nbconvert_exporter": "python",
   "pygments_lexer": "ipython3",
   "version": "3.9.8"
  }
 },
 "nbformat": 4,
 "nbformat_minor": 2
}
