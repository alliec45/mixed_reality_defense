{
 "cells": [
  {
   "cell_type": "markdown",
   "metadata": {},
   "source": [
    "## BURGS - MIXED REALITY DEFENSE\n",
    "\n",
    "### Timeline:\n"
   ]
  },
  {
   "cell_type": "markdown",
   "metadata": {},
   "source": [
    "## Literature Review\n",
    "### Research Papers:\n",
    "- [It's All in Your Headset](https://www.usenix.org/system/files/sec23fall-prepub-131-zhang-yicheng.pdf)\n",
    "    - Purpose - Find side-channel attacks through hand movements, concurrent applications, and location detection. \n",
    "    - Programs - Python, C#, Memory allocation API (AppMemoryUsage), CPU, GPU, Vertex Count, Game thread time, Render thread time, backgrounfTaskHost\n",
    "    - Technology - Hololens, MetaQuest2\n",
    "- [Apple Vision Pro’s Eye Tracking Exposed What People Type](https://nam04.safelinks.protection.outlook.com/?url=https%3A%2F%2Fwww.wired.com%2Fstory%2Fapple-vision-pro-persona-eye-tracking-spy-typing%2F&data=05%7C02%7Ccasiepeng%40vt.edu%7C3f171c6378b241fd2df408dcd382f7ba%7C6095688410ad40fa863d4f32c1e3a37a%7C0%7C0%7C638617806691080948%7CUnknown%7CTWFpbGZsb3d8eyJWIjoiMC4wLjAwMDAiLCJQIjoiV2luMzIiLCJBTiI6Ik1haWwiLCJXVCI6Mn0%3D%7C0%7C%7C%7C&sdata=XhRvlu5DaztAClu0slOXyrVsUOf8wvRaxJPwVpEvSAI%3D&reserved=0)\n",
    "    - Purpose - informed of the accuracy of attacks on user's keyboard inputs from eye tracking in Apple Vision Pro\n",
    "    - Technology - Apple Vision Pro \n",
    "- [Inferring Semantic Location from Spatial Maps in Mixed Reality](https://habiba-farrukh.github.io/files/LocIn.pdf)\n",
    "    - Purpose - Create a framework which is able to predict locations for location-detection attacks (LocIn)\n",
    "    - Programs - Microsoft MRTK's Spatial Mapping \n",
    "    - Technology - HoloLens 2\n",
    "- [OVR seen: Auditing Network Traffic and Privacy Policies in Oculus VR](https://www.usenix.org/system/files/sec22-trimananda.pdf)\n",
    "    - Purpose - To demonstrate how cyber attackers can get access to application information from a VR headset through network traffic. \n",
    "    - Programs - OVRSeen, PolicyLint, PoliCheck, and Polisis. AntMonitor, Frida client, standard Android library, the Mbed TLS library provided by the Unity SDK, and the Unreal version of the OpenSSL library. Here's a github of their programs (which gave them access to applications): https://github.com/UCI-Networking-Group/OVRseen \n",
    "    - Technology - Oculus, Quest 2\n",
    "\n",
    "### Tutorials: \n",
    "- [Magic Leap 2 Tools & Unity - Tutorial (Video)](https://www.youtube.com/watch?v=KqH0zv3e2AY)\n",
    "    - Purpose - Setup ML2, tools to interact with ML2 and setting up the Hub with Unity Hub. \n",
    "    - Programs - Unity\n",
    "    - Technology - ML2  \n",
    "- [Device Stream from Magic Leap Hub 3](https://www.magicleap.care/hc/en-us/articles/6589955346957-Device-Stream)\n",
    "    - Purpose: how to connect the AR headset to your device to stream and share files. \n",
    "- [How to Save Meshing Samples With ML2](https://forum.magicleap.cloud/t/how-to-save-meshes-from-ml2-meshing-sample-or-the-spaces-app/4040/4?u=alliec45)\n",
    "    - Purpose: how to save mesh files from ML2 to to the computer for later studying. Compare mesh sample size with performance indicators. \n",
    "- [Magic Leap Development: Adding Spatial Mapper, Placement Feature, and Controller](https://www.youtube.com/watch?v=Ols3g_BHv1I)\n",
    "    - Purpose: how to set up a Unity program that will take a mesh scan of the surroundings. \n",
    "- [Magic Leap Development: Simple Meshing](https://developer-docs.magicleap.cloud/docs/guides/unity/perception/meshing/unity-simple-meshing/)\n",
    "    - Purpose: set up a simple meshing in Unity\n",
    "\n",
    "### API/Library Documentation:\n",
    "- [Unity FrameTimeManager API](https://unity.com/blog/engine-platform/detecting-performance-bottlenecks-with-unity-frame-timing-manager)\n",
    "- [Power Profiler Package](https://developer-docs.magicleap.cloud/docs/device/power/power-profiler/#)\n",
    "- [Radeon GPU Profiler](https://developer-docs.magicleap.cloud/docs/guides/developer-tools/lumin-aosp-tools/radeon-gpu-profiler/)"
   ]
  }
 ],
 "metadata": {
  "kernelspec": {
   "display_name": "Python 3",
   "language": "python",
   "name": "python3"
  },
  "language_info": {
   "codemirror_mode": {
    "name": "ipython",
    "version": 3
   },
   "file_extension": ".py",
   "mimetype": "text/x-python",
   "name": "python",
   "nbconvert_exporter": "python",
   "pygments_lexer": "ipython3",
   "version": "3.9.8"
  }
 },
 "nbformat": 4,
 "nbformat_minor": 2
}
